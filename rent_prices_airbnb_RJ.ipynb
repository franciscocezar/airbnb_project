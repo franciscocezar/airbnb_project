{
  "cells": [
    {
      "cell_type": "markdown",
      "metadata": {
        "id": "2QaMUpLP1lwd"
      },
      "source": [
        "# Projeto Airbnb Rio - Ferramenta de Previsão de Preço de Imóvel para pessoas comuns "
      ]
    },
    {
      "cell_type": "markdown",
      "metadata": {
        "id": "m8Y9mz2v1lwl"
      },
      "source": [
        "### Contexto\n",
        "\n",
        "No Airbnb, qualquer pessoa que tenha um quarto ou um imóvel de qualquer tipo (apartamento, casa, chalé, pousada, etc.) pode ofertar o seu imóvel para ser alugado por diária.\n",
        "\n",
        "Você cria o seu perfil de host (pessoa que disponibiliza um imóvel para aluguel por diária) e cria o anúncio do seu imóvel.\n",
        "\n",
        "Nesse anúncio, o host deve descrever as características do imóvel da forma mais completa possível, de forma a ajudar os locadores/viajantes a escolherem o melhor imóvel para eles (e de forma a tornar o seu anúncio mais atrativo)\n",
        "\n",
        "Existem dezenas de personalizações possíveis no seu anúncio, desde quantidade mínima de diária, preço, quantidade de quartos, até regras de cancelamento, taxa extra para hóspedes extras, exigência de verificação de identidade do locador, etc.\n",
        "\n",
        "### Nosso objetivo\n",
        "\n",
        "Construir um modelo de previsão de preço que permita uma pessoa comum que possui um imóvel possa saber quanto deve cobrar pela diária do seu imóvel.\n",
        "\n",
        "Ou ainda, para o locador comum, dado o imóvel que ele está buscando, ajudar a saber se aquele imóvel está com preço atrativo (abaixo da média para imóveis com as mesmas características) ou não.\n",
        "\n",
        "### O que temos disponível, inspirações e créditos\n",
        "\n",
        "As bases de dados foram retiradas do site kaggle: https://www.kaggle.com/allanbruno/airbnb-rio-de-janeiro\n",
        "\n",
        "Elas estão disponíveis para download abaixo da aula (se você puxar os dados direto do Kaggle pode ser que encontre resultados diferentes dos meus, afinal as bases de dados podem ter sido atualizadas).\n",
        "\n",
        "Caso queira uma outra solução, podemos olhar como referência a solução do usuário Allan Bruno do kaggle no Notebook: https://www.kaggle.com/allanbruno/helping-regular-people-price-listings-on-airbnb\n",
        "\n",
        "Você vai perceber semelhanças entre a solução que vamos desenvolver aqui e a dele, mas também algumas diferenças significativas no processo de construção do projeto.\n",
        "\n",
        "- As bases de dados são os preços dos imóveis obtidos e suas respectivas características em cada mês.\n",
        "- Os preços são dados em reais (R$)\n",
        "- Temos bases de abril de 2018 a maio de 2020, com exceção de junho de 2018 que não possui base de dados\n",
        "\n",
        "### Expectativas Iniciais\n",
        "\n",
        "- Acredito que a sazonalidade pode ser um fator importante, visto que meses como dezembro costumam ser bem caros no RJ\n",
        "- A localização do imóvel deve fazer muita diferença no preço, já que no Rio de Janeiro a localização pode mudar completamente as características do lugar (segurança, beleza natural, pontos turísticos)\n",
        "- Adicionais/Comodidades podem ter um impacto significativo, visto que temos muitos prédios e casas antigos no Rio de Janeiro\n",
        "\n",
        "Vamos descobrir o quanto esses fatores impactam e se temos outros fatores não tão intuitivos que são extremamente importantes."
      ]
    },
    {
      "cell_type": "markdown",
      "metadata": {
        "id": "21w5i6Yn1lwn"
      },
      "source": [
        "### Importar Bibliotecas e Bases de Dados"
      ]
    },
    {
      "cell_type": "code",
      "execution_count": 121,
      "metadata": {
        "id": "reVm--fl1lwo"
      },
      "outputs": [],
      "source": [
        "import pandas as pd\n",
        "import numpy as np\n",
        "import seaborn as sns\n",
        "import matplotlib.pyplot as plt\n",
        "# import plotly.express as px\n",
        "\n",
        "from pathlib import Path\n",
        "from sklearn.metrics import r2_score, mean_squared_error\n",
        "from sklearn.linear_model import LinearRegression\n",
        "from sklearn.ensemble import RandomForestRegressor, ExtraTreesRegressor\n",
        "from sklearn.model_selection import train_test_split\n"
      ]
    },
    {
      "cell_type": "code",
      "execution_count": 114,
      "metadata": {
        "id": "ijP2oQ005LNR"
      },
      "outputs": [],
      "source": [
        "# path_data = Path('/content/drive/MyDrive/Colab Notebooks/')\n",
        "# # print(path_data.iterdir())\n",
        "# for file in path_data.iterdir():\n",
        "#   if '.csv' in file.name:\n",
        "#       print(file.name)\n",
        "\n",
        "airbnb = pd.read_csv('Airbnb_rj.csv')"
      ]
    },
    {
      "cell_type": "markdown",
      "metadata": {
        "id": "0A8ilZCb1lwp"
      },
      "source": [
        "### Consolidar Base de Dados"
      ]
    },
    {
      "cell_type": "code",
      "execution_count": 12,
      "metadata": {
        "id": "HKKKOKq71lwq"
      },
      "outputs": [],
      "source": [
        "# #Set an empty DataFrame\n",
        "# month = {'jan': 1, 'fev':2, 'mar':3, 'abr': 4, 'mai':5, 'jun': 6, 'jul': 7, 'ago': 8, 'set': 9, 'out': 10, 'nov': 11, 'dez': 12}\n",
        "\n",
        "# airbnb_df = pd.DataFrame()\n",
        "# #Set datasets path.\n",
        "# path_data = Path('/content/')\n",
        "# #Iterate all the files in selected path.\n",
        "# for file in path_data.iterdir():\n",
        "#     if '.csv' in file.name:\n",
        "#         df = pd.read_csv(f'{file.name}')\n",
        "#         df['month'] = month[file.name[:3]]\n",
        "#         df['year'] = int(file.name[-8:-4])\n",
        "#         airbnb_df = airbnb_df.append(df)\n",
        "\n",
        "# # display(airbnb_df)"
      ]
    },
    {
      "cell_type": "code",
      "execution_count": 19,
      "metadata": {
        "colab": {
          "base_uri": "https://localhost:8080/"
        },
        "id": "KlPMXhq3JRqp",
        "outputId": "a20b50ed-88f0-4166-e14a-1c2868ac94d0"
      },
      "outputs": [
        {
          "name": "stdout",
          "output_type": "stream",
          "text": [
            "Drive already mounted at /content/drive; to attempt to forcibly remount, call drive.mount(\"/content/drive\", force_remount=True).\n"
          ]
        }
      ],
      "source": [
        "# from google.colab import drive\n",
        "# drive.mount('/content/drive')"
      ]
    },
    {
      "cell_type": "code",
      "execution_count": null,
      "metadata": {
        "id": "mMW2oGeU1lws"
      },
      "outputs": [],
      "source": [
        "# airbnb_df.head(1000).to_csv('earliest records.csv')"
      ]
    },
    {
      "cell_type": "code",
      "execution_count": 20,
      "metadata": {
        "id": "jgX2B7q11lwt"
      },
      "outputs": [],
      "source": [
        "# columns = ['host_response_time','host_response_rate','host_is_superhost','host_listings_count','latitude','longitude','property_type','room_type','accommodates','bathrooms','bedrooms','beds','bed_type','amenities','price','security_deposit','cleaning_fee','guests_included','extra_people','minimum_nights','maximum_nights','number_of_reviews','review_scores_rating','review_scores_accuracy','review_scores_cleanliness','review_scores_checkin','review_scores_communication','review_scores_location','review_scores_value','instant_bookable','is_business_travel_ready','cancellation_policy','month','year']\n",
        "\n",
        "\n",
        "# airbnb_df = airbnb_df.loc[:, columns]\n",
        "# # display(airbnb_df)"
      ]
    },
    {
      "cell_type": "markdown",
      "metadata": {
        "id": "uNNnExaB1lwu"
      },
      "source": [
        "### Se tivermos muitas colunas, já vamos identificar quais colunas podemos excluir"
      ]
    },
    {
      "cell_type": "code",
      "execution_count": null,
      "metadata": {
        "id": "6T4mVExF1lwu"
      },
      "outputs": [],
      "source": []
    },
    {
      "cell_type": "markdown",
      "metadata": {
        "id": "zme_Oc7V1lwv"
      },
      "source": [
        "### Handling Missing Values\n",
        "\n",
        "- Analyzing the data, we can see that there are many empty values. The columns with more than 300,000 NaN values have been eliminated.\n",
        "- For the other columns, since we still have a lot of data (more than 900,000 rows), we will just discard the NaN data."
      ]
    },
    {
      "cell_type": "code",
      "execution_count": null,
      "metadata": {
        "id": "zrJRIFWr1lww"
      },
      "outputs": [],
      "source": [
        "# for column in airbnb_df:\n",
        "#     if airbnb_df[column].isnull().sum() > 300000:\n",
        "#         airbnb_df = airbnb_df.drop(column, axis=1)\n",
        "\n",
        "# airbnb_df = airbnb_df.dropna()\n",
        "\n",
        "# print(airbnb_df.shape)"
      ]
    },
    {
      "cell_type": "markdown",
      "metadata": {
        "id": "bEeWUlxk1lwx"
      },
      "source": [
        "### Verificar Tipos de Dados em cada coluna"
      ]
    },
    {
      "cell_type": "code",
      "execution_count": null,
      "metadata": {
        "id": "svlS2YlT1lwy"
      },
      "outputs": [],
      "source": [
        "# print(airbnb_df.dtypes)\n",
        "# print('-' * 55)\n",
        "# print(airbnb_df.iloc[0])"
      ]
    },
    {
      "cell_type": "code",
      "execution_count": null,
      "metadata": {
        "id": "M8nR_mHq1lwz"
      },
      "outputs": [],
      "source": [
        "# # column price and extra people --> float\n",
        "# airbnb_df['price'] = airbnb_df['price'].str.replace('$', '')\n",
        "# airbnb_df['price'] = airbnb_df['price'].str.replace(',', '')\n",
        "# airbnb_df['price'] = airbnb_df['price'].astype(np.float32, copy=False)\n",
        "\n",
        "# airbnb_df['extra_people'] = airbnb_df['extra_people'].str.replace('$', '')\n",
        "# airbnb_df['extra_people'] = airbnb_df['extra_people'].str.replace(',', '')\n",
        "# airbnb_df['extra_people'] = airbnb_df['extra_people'].astype(np.float32, copy=False)\n",
        "\n",
        "# print(airbnb_df.dtypes)"
      ]
    },
    {
      "cell_type": "markdown",
      "metadata": {
        "id": "fhWWwwL61lw0"
      },
      "source": [
        "### Análise Exploratória e Tratar Outliers"
      ]
    },
    {
      "cell_type": "code",
      "execution_count": null,
      "metadata": {
        "id": "k-m2xZBZ1lw1"
      },
      "outputs": [],
      "source": [
        "# plt.figure(figsize=(14,9))\n",
        "# sns.heatmap(airbnb_df.corr(), annot=True, cmap='Greens')"
      ]
    },
    {
      "cell_type": "code",
      "execution_count": 115,
      "metadata": {
        "id": "mLowF6Xj1lw2"
      },
      "outputs": [],
      "source": [
        "def limits(column):\n",
        "    q1 = column.quantile(0.25)\n",
        "    q3 = column.quantile(0.75)\n",
        "    amplitude = q3 - q1\n",
        "\n",
        "    return q1 - 1.5 * amplitude, q3 + 1.5 * amplitude\n",
        "\n",
        "def del_outliers(df, column):\n",
        "    rows_qtt = df.shape[0]\n",
        "    bottom_lim, top_lim = limits(df[column])\n",
        "    df = df.loc[(df[column] >= bottom_lim) & (df[column] <= top_lim), :]\n",
        "\n",
        "    return df, rows_qtt - df.shape[0]"
      ]
    },
    {
      "cell_type": "code",
      "execution_count": 116,
      "metadata": {
        "id": "SpqmA9Pt1lw3"
      },
      "outputs": [],
      "source": [
        "def box_diagram(column):\n",
        "    fig, (ax1, ax2) = plt.subplots(1, 2)\n",
        "    fig.set_size_inches(15, 5)\n",
        "    sns.boxplot(x=column, ax=ax1)\n",
        "    ax2.set_xlim(limits(column))\n",
        "    sns.boxplot(x=column, ax=ax2)\n",
        "\n",
        "def histogram(column):\n",
        "    plt.figure(figsize=(15,5))\n",
        "    sns.histplot(column, kde=True, linewidth=0)\n",
        "\n",
        "def bar_graph(column):\n",
        "    plt.figure(figsize=(15,5))\n",
        "    ax = sns.barplot(x=column.value_counts().index, y=column.value_counts())\n",
        "    ax.set_xlim(limits(column))"
      ]
    },
    {
      "cell_type": "code",
      "execution_count": null,
      "metadata": {},
      "outputs": [],
      "source": []
    },
    {
      "cell_type": "markdown",
      "metadata": {
        "id": "R9ZR9Bws1lw4"
      },
      "source": [
        "## Price"
      ]
    },
    {
      "cell_type": "code",
      "execution_count": null,
      "metadata": {
        "id": "6dvlKXGP1lw5"
      },
      "outputs": [],
      "source": [
        "# box_diagram(airbnb_df['price'])\n",
        "# histogram(airbnb_df['price'])"
      ]
    },
    {
      "cell_type": "code",
      "execution_count": null,
      "metadata": {
        "id": "qiqBMPUM1lw6"
      },
      "outputs": [],
      "source": [
        "# airbnb_df, removed_rows = del_outliers(airbnb_df, 'price')\n",
        "# print(f'{removed_rows} Removed rows.')"
      ]
    },
    {
      "cell_type": "code",
      "execution_count": null,
      "metadata": {
        "id": "llk4JOiK1lw7"
      },
      "outputs": [],
      "source": [
        "# histogram(airbnb_df['price'])"
      ]
    },
    {
      "cell_type": "markdown",
      "metadata": {
        "id": "ivvnxZp91lw8"
      },
      "source": [
        "## Extra People"
      ]
    },
    {
      "cell_type": "code",
      "execution_count": null,
      "metadata": {
        "id": "-mG7hbF-1lw9"
      },
      "outputs": [],
      "source": [
        "# box_diagram(airbnb_df['extra_people'])\n",
        "# histogram(airbnb_df['extra_people'])\n",
        "# print(airbnb_df['extra_people'].max())"
      ]
    },
    {
      "cell_type": "code",
      "execution_count": null,
      "metadata": {
        "id": "DBeIIPJD1lw9"
      },
      "outputs": [],
      "source": [
        "# airbnb_df, removed_rows = del_outliers(airbnb_df, 'extra_people')\n",
        "# print(f'{removed_rows} Removed rows.')"
      ]
    },
    {
      "cell_type": "code",
      "execution_count": null,
      "metadata": {
        "id": "03hRAQqc1lw-"
      },
      "outputs": [],
      "source": [
        "# histogram(airbnb_df['extra_people'])\n"
      ]
    },
    {
      "cell_type": "markdown",
      "metadata": {
        "id": "Dd_RdvrL1lw_"
      },
      "source": [
        "### host_listings_count"
      ]
    },
    {
      "cell_type": "code",
      "execution_count": null,
      "metadata": {
        "id": "y8U4PpVl1lxA"
      },
      "outputs": [],
      "source": [
        "# box_diagram(airbnb_df['host_listings_count'])\n",
        "# bar_graph(airbnb_df['host_listings_count'])"
      ]
    },
    {
      "cell_type": "code",
      "execution_count": null,
      "metadata": {
        "id": "RtPIAIQD1lxA"
      },
      "outputs": [],
      "source": [
        "# airbnb_df, removed_rows = del_outliers(airbnb_df, 'host_listings_count')\n",
        "# print(f'{removed_rows} removed rows')"
      ]
    },
    {
      "cell_type": "markdown",
      "metadata": {
        "id": "BE7UOFrC1lxB"
      },
      "source": [
        "### Accommodates"
      ]
    },
    {
      "cell_type": "code",
      "execution_count": null,
      "metadata": {
        "id": "0MawxOik1lxB"
      },
      "outputs": [],
      "source": [
        "# box_diagram(airbnb_df['accommodates'])\n",
        "# bar_graph(airbnb_df['accommodates'])"
      ]
    },
    {
      "cell_type": "markdown",
      "metadata": {
        "id": "pqlHSq-O1lxC"
      },
      "source": [
        "### Bathrooms"
      ]
    },
    {
      "cell_type": "code",
      "execution_count": null,
      "metadata": {
        "id": "3n4zCCSV1lxC"
      },
      "outputs": [],
      "source": [
        "# box_diagram(airbnb_df['bathrooms'])\n",
        "# plt.figure(figsize=(15,5))\n",
        "# sns.barplot(x=airbnb_df['bathrooms'].value_counts().index, y=airbnb_df['bathrooms'].value_counts())"
      ]
    },
    {
      "cell_type": "markdown",
      "metadata": {
        "id": "j419dBX31lxD"
      },
      "source": [
        "### Bedrooms"
      ]
    },
    {
      "cell_type": "code",
      "execution_count": null,
      "metadata": {
        "id": "T0XmUsYR1lxD"
      },
      "outputs": [],
      "source": [
        "# box_diagram(airbnb_df['bedrooms'])\n",
        "# bar_graph(airbnb_df['bedrooms'])"
      ]
    },
    {
      "cell_type": "markdown",
      "metadata": {
        "id": "XQ9elueX1lxE"
      },
      "source": [
        "### Beds"
      ]
    },
    {
      "cell_type": "code",
      "execution_count": null,
      "metadata": {
        "id": "XPYfCZUT1lxE"
      },
      "outputs": [],
      "source": [
        "# box_diagram(airbnb_df['beds'])\n",
        "# bar_graph(airbnb_df['beds'])"
      ]
    },
    {
      "cell_type": "markdown",
      "metadata": {
        "id": "SzRN2w501lxF"
      },
      "source": [
        "### guests_included"
      ]
    },
    {
      "cell_type": "code",
      "execution_count": null,
      "metadata": {
        "id": "wlMmJU7i1lxF"
      },
      "outputs": [],
      "source": [
        "# plt.figure(figsize=(15,5))\n",
        "# sns.barplot(x=airbnb_df['guests_included'].value_counts().index, y=airbnb_df['guests_included'].value_counts())"
      ]
    },
    {
      "cell_type": "code",
      "execution_count": null,
      "metadata": {
        "id": "NKk17Dex1lxG"
      },
      "outputs": [],
      "source": [
        "# airbnb_df = airbnb_df.drop('guests_included', axis=1)\n",
        "# airbnb_df.shape"
      ]
    },
    {
      "cell_type": "markdown",
      "metadata": {
        "id": "yfyvi0mD1lxG"
      },
      "source": [
        "### minimum_nights"
      ]
    },
    {
      "cell_type": "code",
      "execution_count": null,
      "metadata": {
        "id": "m2JNQ06d1lxH"
      },
      "outputs": [],
      "source": [
        "# box_diagram(airbnb_df['minimum_nights'])\n",
        "# bar_graph(airbnb_df['minimum_nights'])"
      ]
    },
    {
      "cell_type": "code",
      "execution_count": null,
      "metadata": {
        "id": "y1jrua6b1lxH"
      },
      "outputs": [],
      "source": [
        "# airbnb_df, removed_rows = del_outliers(airbnb_df, 'minimum_nights')\n",
        "# print(f'{removed_rows} removed rows')"
      ]
    },
    {
      "cell_type": "markdown",
      "metadata": {
        "id": "uPrMDzwc1lxI"
      },
      "source": [
        "### maximum_nights"
      ]
    },
    {
      "cell_type": "code",
      "execution_count": null,
      "metadata": {
        "id": "H4qI3NDZ1lxI"
      },
      "outputs": [],
      "source": [
        "# box_diagram(airbnb_df['maximum_nights'])\n",
        "# bar_graph(airbnb_df['maximum_nights'])"
      ]
    },
    {
      "cell_type": "code",
      "execution_count": null,
      "metadata": {
        "id": "tafufdVJ1lxJ"
      },
      "outputs": [],
      "source": [
        "# airbnb_df = airbnb_df.drop('maximum_nights', axis=1)\n",
        "# airbnb_df.shape"
      ]
    },
    {
      "cell_type": "markdown",
      "metadata": {
        "id": "yQiPqV1n1lxK"
      },
      "source": [
        "### number_of_reviews"
      ]
    },
    {
      "cell_type": "code",
      "execution_count": null,
      "metadata": {
        "id": "kLgVmVH41lxL"
      },
      "outputs": [],
      "source": [
        "# box_diagram(airbnb_df['number_of_reviews'])\n",
        "# bar_graph(airbnb_df['number_of_reviews'])"
      ]
    },
    {
      "cell_type": "code",
      "execution_count": null,
      "metadata": {
        "id": "ye2nNgVk1lxL"
      },
      "outputs": [],
      "source": [
        "# airbnb_df = airbnb_df.drop('number_of_reviews', axis=1)\n",
        "# airbnb_df.shape"
      ]
    },
    {
      "cell_type": "markdown",
      "metadata": {
        "id": "OdZfhhAV1lxN"
      },
      "source": [
        "### Tratamento de Colunas de Valores de Texto\n"
      ]
    },
    {
      "cell_type": "markdown",
      "metadata": {
        "id": "tuvJU-Sm1lxN"
      },
      "source": [
        "- property_type"
      ]
    },
    {
      "cell_type": "code",
      "execution_count": null,
      "metadata": {
        "id": "u32IqmcQ1lxN"
      },
      "outputs": [],
      "source": [
        "# print(airbnb_df['property_type'].value_counts())\n",
        "# plt.figure(figsize=(15, 5))\n",
        "# graph = sns.countplot(x=airbnb_df['property_type'])\n",
        "# graph.tick_params(axis='x', rotation=90)"
      ]
    },
    {
      "cell_type": "code",
      "execution_count": null,
      "metadata": {
        "id": "TcWAzkxf1lxO"
      },
      "outputs": [],
      "source": [
        "# house_types = airbnb_df['property_type'].value_counts()\n",
        "# columns_group = [kind for kind in house_types.index if house_types[kind] < 2100]\n",
        "# print(columns_group)\n",
        "\n",
        "# for kind in columns_group:\n",
        "#     airbnb_df.loc[airbnb_df['property_type']==kind, 'property_type'] = 'Others'\n",
        "\n",
        "\n",
        "# print(airbnb_df['property_type'].value_counts())\n",
        "\n",
        "# # plt.figure(figsize=(15, 5))\n",
        "# # graph = sns.countplot(x=airbnb_df['property_type'])\n",
        "# # graph.tick_params(axis='x', rotation=90)"
      ]
    },
    {
      "cell_type": "markdown",
      "metadata": {
        "id": "AYNJt25w1lxP"
      },
      "source": [
        "- room_type"
      ]
    },
    {
      "cell_type": "code",
      "execution_count": null,
      "metadata": {
        "id": "T6Vbs85a1lxP"
      },
      "outputs": [],
      "source": [
        "# print(airbnb_df['room_type'].value_counts())\n",
        "\n",
        "# # plt.figure(figsize=(15, 5))\n",
        "# # grafico = sns.countplot(x=airbnb_df['room_type'])\n"
      ]
    },
    {
      "cell_type": "markdown",
      "metadata": {
        "id": "I15ru5iE1lxQ"
      },
      "source": [
        "- ### bed_type"
      ]
    },
    {
      "cell_type": "code",
      "execution_count": null,
      "metadata": {
        "id": "2FVEUKTl1lxQ"
      },
      "outputs": [],
      "source": [
        "# print(airbnb_df['bed_type'].value_counts())\n",
        "\n",
        "# # plt.figure(figsize=(15, 5))\n",
        "# # grafico = sns.countplot(x=airbnb_df['bed_type'])\n",
        "\n",
        "# bed_type = airbnb_df['bed_type'].value_counts()\n",
        "# columns_group = [kind for kind in bed_type.index if bed_type[kind] < 10000]\n",
        "# print(columns_group)\n",
        "\n",
        "# for kind in columns_group:\n",
        "#     airbnb_df.loc[airbnb_df['bed_type']==kind, 'bed_type'] = 'Others'\n",
        "\n",
        "\n",
        "# print(airbnb_df['bed_type'].value_counts())\n",
        "\n",
        "# # plt.figure(figsize=(15, 5))\n",
        "# # graph = sns.countplot(x=airbnb_df['bed_type'])"
      ]
    },
    {
      "cell_type": "markdown",
      "metadata": {
        "id": "xKNsILTD1lxR"
      },
      "source": [
        "- ### cancellation_policy "
      ]
    },
    {
      "cell_type": "code",
      "execution_count": null,
      "metadata": {
        "id": "3lzIjZhd1lxS"
      },
      "outputs": [],
      "source": [
        "# print(airbnb_df['cancellation_policy'].value_counts())\n",
        "\n",
        "# # plt.figure(figsize=(15, 5))\n",
        "# # grafico = sns.countplot(x=airbnb_df['cancellation_policy'])\n",
        "\n",
        "# cancellation_policy = airbnb_df['cancellation_policy'].value_counts()\n",
        "# columns_group = [kind for kind in cancellation_policy.index if cancellation_policy[kind] < 10400]\n",
        "# print(columns_group)\n",
        "\n",
        "# for kind in columns_group:\n",
        "#     airbnb_df.loc[airbnb_df['cancellation_policy']==kind, 'cancellation_policy'] = 'strict'\n",
        "\n",
        "\n",
        "# print(airbnb_df['cancellation_policy'].value_counts())\n",
        "\n",
        "# # plt.figure(figsize=(15, 5))\n",
        "# # graph = sns.countplot(x=airbnb_df['cancellation_policy'])"
      ]
    },
    {
      "cell_type": "markdown",
      "metadata": {
        "id": "eB5eRG9k1lxS"
      },
      "source": [
        "- ### amenities \n"
      ]
    },
    {
      "cell_type": "code",
      "execution_count": 130,
      "metadata": {
        "id": "owawtgmi1lxT"
      },
      "outputs": [
        {
          "name": "stdout",
          "output_type": "stream",
          "text": [
            "['{TV', '\"Cable TV\"', 'Internet', 'Wifi', '\"Air conditioning\"', 'Kitchen', 'Doorman', 'Elevator', '\"Buzzer/wireless intercom\"', 'Heating', 'Washer', 'Dryer', 'Essentials', 'Shampoo', '\"24-hour check-in\"', 'Hangers', '\"Hair dryer\"', 'Iron', '\"Laptop friendly workspace\"}']\n",
            "19\n"
          ]
        }
      ],
      "source": [
        "print(airbnb['amenities'].iloc[1].split(','))\n",
        "print(len(airbnb['amenities'].iloc[1].split(',')))\n",
        "\n",
        "airbnb['n_amenities'] = airbnb['amenities'].str.split(',').apply(len)"
      ]
    },
    {
      "cell_type": "code",
      "execution_count": 132,
      "metadata": {
        "id": "aaaTDvcZ1lxT"
      },
      "outputs": [
        {
          "data": {
            "text/plain": [
              "(591885, 21)"
            ]
          },
          "execution_count": 132,
          "metadata": {},
          "output_type": "execute_result"
        }
      ],
      "source": [
        "airbnb = airbnb.drop('amenities', axis=1)\n",
        "airbnb.shape"
      ]
    },
    {
      "cell_type": "code",
      "execution_count": null,
      "metadata": {
        "id": "J5gDrjT81lxU"
      },
      "outputs": [],
      "source": [
        "# box_diagram(airbnb_df['n_amenities'])\n",
        "# bar_graph(airbnb_df['n_amenities'])"
      ]
    },
    {
      "cell_type": "code",
      "execution_count": 133,
      "metadata": {
        "id": "9f80brTM1lxV"
      },
      "outputs": [
        {
          "name": "stdout",
          "output_type": "stream",
          "text": [
            "8373 removed rows\n"
          ]
        }
      ],
      "source": [
        "airbnb, removed_rows = del_outliers(airbnb, 'n_amenities')\n",
        "print(f'{removed_rows} removed rows')\n"
      ]
    },
    {
      "cell_type": "code",
      "execution_count": 139,
      "metadata": {},
      "outputs": [
        {
          "name": "stdout",
          "output_type": "stream",
          "text": [
            "<class 'pandas.core.frame.DataFrame'>\n",
            "Int64Index: 583512 entries, 0 to 591884\n",
            "Data columns (total 20 columns):\n",
            " #   Column                    Non-Null Count   Dtype  \n",
            "---  ------                    --------------   -----  \n",
            " 0   host_is_superhost         583512 non-null  object \n",
            " 1   host_listings_count       583512 non-null  float64\n",
            " 2   latitude                  583512 non-null  float64\n",
            " 3   longitude                 583512 non-null  float64\n",
            " 4   property_type             583512 non-null  object \n",
            " 5   room_type                 583512 non-null  object \n",
            " 6   accommodates              583512 non-null  int64  \n",
            " 7   bathrooms                 583512 non-null  float64\n",
            " 8   bedrooms                  583512 non-null  float64\n",
            " 9   beds                      583512 non-null  float64\n",
            " 10  bed_type                  583512 non-null  object \n",
            " 11  price                     583512 non-null  float64\n",
            " 12  extra_people              583512 non-null  float64\n",
            " 13  minimum_nights            583512 non-null  int64  \n",
            " 14  instant_bookable          583512 non-null  object \n",
            " 15  is_business_travel_ready  583512 non-null  object \n",
            " 16  cancellation_policy       583512 non-null  object \n",
            " 17  month                     583512 non-null  int64  \n",
            " 18  year                      583512 non-null  int64  \n",
            " 19  n_amenities               583512 non-null  int64  \n",
            "dtypes: float64(8), int64(5), object(7)\n",
            "memory usage: 109.6+ MB\n"
          ]
        },
        {
          "data": {
            "text/plain": [
              "None"
            ]
          },
          "metadata": {},
          "output_type": "display_data"
        }
      ],
      "source": [
        "airbnb = airbnb.drop('Unnamed: 0', axis=1)\n",
        "display(airbnb.info())\n"
      ]
    },
    {
      "cell_type": "code",
      "execution_count": null,
      "metadata": {},
      "outputs": [],
      "source": []
    },
    {
      "cell_type": "code",
      "execution_count": null,
      "metadata": {},
      "outputs": [],
      "source": []
    },
    {
      "cell_type": "markdown",
      "metadata": {
        "id": "XeyB750Q1lxV"
      },
      "source": [
        "### Property map view\n"
      ]
    },
    {
      "cell_type": "code",
      "execution_count": 117,
      "metadata": {
        "colab": {
          "base_uri": "https://localhost:8080/",
          "height": 542
        },
        "id": "0Ah2tkQl1lxW",
        "outputId": "7c32bb48-38d3-435b-a19e-01771343a1e5"
      },
      "outputs": [],
      "source": [
        "# samples = airbnb.sample(n=50000)\n",
        "# map_center = {'lat':samples.latitude.mean(), 'lon':samples.longitude.mean()}\n",
        "# map = px.density_mapbox(samples, lat='latitude', lon='longitude',z='price', radius=2.5,\n",
        "#                         center=map_center, zoom=10,\n",
        "#                         mapbox_style='stamen-terrain')\n",
        "# map.show()"
      ]
    },
    {
      "cell_type": "markdown",
      "metadata": {
        "id": "oZ8QLOR11lxX"
      },
      "source": [
        "### Encoding"
      ]
    },
    {
      "cell_type": "code",
      "execution_count": 140,
      "metadata": {
        "id": "AMwkGctZYm9G"
      },
      "outputs": [
        {
          "data": {
            "text/plain": [
              "host_is_superhost            object\n",
              "host_listings_count         float64\n",
              "latitude                    float64\n",
              "longitude                   float64\n",
              "property_type                object\n",
              "room_type                    object\n",
              "accommodates                  int64\n",
              "bathrooms                   float64\n",
              "bedrooms                    float64\n",
              "beds                        float64\n",
              "bed_type                     object\n",
              "price                       float64\n",
              "extra_people                float64\n",
              "minimum_nights                int64\n",
              "instant_bookable             object\n",
              "is_business_travel_ready     object\n",
              "cancellation_policy          object\n",
              "month                         int64\n",
              "year                          int64\n",
              "n_amenities                   int64\n",
              "dtype: object"
            ]
          },
          "metadata": {},
          "output_type": "display_data"
        }
      ],
      "source": [
        "# print(airbnb.iloc[0])\n",
        "display(airbnb.dtypes)"
      ]
    },
    {
      "cell_type": "code",
      "execution_count": null,
      "metadata": {},
      "outputs": [],
      "source": []
    },
    {
      "cell_type": "code",
      "execution_count": 141,
      "metadata": {
        "colab": {
          "base_uri": "https://localhost:8080/"
        },
        "id": "fOz6NP7t1lxY",
        "outputId": "e96a4a92-7381-4878-d435-d5d79efef9f3"
      },
      "outputs": [
        {
          "name": "stdout",
          "output_type": "stream",
          "text": [
            "host_is_superhost                                     1\n",
            "host_listings_count                                 2.0\n",
            "latitude                                      -22.96592\n",
            "longitude                                     -43.17896\n",
            "property_type                               Condominium\n",
            "room_type                               Entire home/apt\n",
            "accommodates                                          5\n",
            "bathrooms                                           1.0\n",
            "bedrooms                                            2.0\n",
            "beds                                                2.0\n",
            "bed_type                                       Real Bed\n",
            "price                                             332.0\n",
            "extra_people                                       63.0\n",
            "minimum_nights                                        5\n",
            "instant_bookable                                      1\n",
            "is_business_travel_ready                              0\n",
            "cancellation_policy         strict_14_with_grace_period\n",
            "month                                                 1\n",
            "year                                               2020\n",
            "n_amenities                                          33\n",
            "Name: 0, dtype: object\n"
          ]
        }
      ],
      "source": [
        "true_false_columns = ['host_is_superhost', 'instant_bookable', 'is_business_travel_ready']\n",
        "encoded_df = airbnb.copy()\n",
        "\n",
        "for column in true_false_columns:\n",
        "  encoded_df.loc[encoded_df[column]=='t', column] = 1\n",
        "  encoded_df.loc[encoded_df[column]=='f', column] = 0\n",
        "\n",
        "print(encoded_df.iloc[0])"
      ]
    },
    {
      "cell_type": "code",
      "execution_count": 142,
      "metadata": {
        "colab": {
          "base_uri": "https://localhost:8080/",
          "height": 484
        },
        "id": "k_hpsEglf_Xa",
        "outputId": "03e48d77-db62-4f79-90b6-798f9741e2a3"
      },
      "outputs": [
        {
          "data": {
            "text/html": [
              "<div>\n",
              "<style scoped>\n",
              "    .dataframe tbody tr th:only-of-type {\n",
              "        vertical-align: middle;\n",
              "    }\n",
              "\n",
              "    .dataframe tbody tr th {\n",
              "        vertical-align: top;\n",
              "    }\n",
              "\n",
              "    .dataframe thead th {\n",
              "        text-align: right;\n",
              "    }\n",
              "</style>\n",
              "<table border=\"1\" class=\"dataframe\">\n",
              "  <thead>\n",
              "    <tr style=\"text-align: right;\">\n",
              "      <th></th>\n",
              "      <th>host_is_superhost</th>\n",
              "      <th>host_listings_count</th>\n",
              "      <th>latitude</th>\n",
              "      <th>longitude</th>\n",
              "      <th>accommodates</th>\n",
              "      <th>bathrooms</th>\n",
              "      <th>bedrooms</th>\n",
              "      <th>beds</th>\n",
              "      <th>price</th>\n",
              "      <th>extra_people</th>\n",
              "      <th>...</th>\n",
              "      <th>room_type_Entire home/apt</th>\n",
              "      <th>room_type_Hotel room</th>\n",
              "      <th>room_type_Private room</th>\n",
              "      <th>room_type_Shared room</th>\n",
              "      <th>bed_type_Others</th>\n",
              "      <th>bed_type_Real Bed</th>\n",
              "      <th>cancellation_policy_flexible</th>\n",
              "      <th>cancellation_policy_moderate</th>\n",
              "      <th>cancellation_policy_strict</th>\n",
              "      <th>cancellation_policy_strict_14_with_grace_period</th>\n",
              "    </tr>\n",
              "  </thead>\n",
              "  <tbody>\n",
              "    <tr>\n",
              "      <th>0</th>\n",
              "      <td>1</td>\n",
              "      <td>2.0</td>\n",
              "      <td>-22.96592</td>\n",
              "      <td>-43.17896</td>\n",
              "      <td>5</td>\n",
              "      <td>1.0</td>\n",
              "      <td>2.0</td>\n",
              "      <td>2.0</td>\n",
              "      <td>332.0</td>\n",
              "      <td>63.0</td>\n",
              "      <td>...</td>\n",
              "      <td>1</td>\n",
              "      <td>0</td>\n",
              "      <td>0</td>\n",
              "      <td>0</td>\n",
              "      <td>0</td>\n",
              "      <td>1</td>\n",
              "      <td>0</td>\n",
              "      <td>0</td>\n",
              "      <td>0</td>\n",
              "      <td>1</td>\n",
              "    </tr>\n",
              "    <tr>\n",
              "      <th>1</th>\n",
              "      <td>0</td>\n",
              "      <td>0.0</td>\n",
              "      <td>-22.98467</td>\n",
              "      <td>-43.19611</td>\n",
              "      <td>6</td>\n",
              "      <td>2.0</td>\n",
              "      <td>2.0</td>\n",
              "      <td>4.0</td>\n",
              "      <td>336.0</td>\n",
              "      <td>0.0</td>\n",
              "      <td>...</td>\n",
              "      <td>1</td>\n",
              "      <td>0</td>\n",
              "      <td>0</td>\n",
              "      <td>0</td>\n",
              "      <td>0</td>\n",
              "      <td>1</td>\n",
              "      <td>0</td>\n",
              "      <td>0</td>\n",
              "      <td>0</td>\n",
              "      <td>1</td>\n",
              "    </tr>\n",
              "    <tr>\n",
              "      <th>2</th>\n",
              "      <td>0</td>\n",
              "      <td>3.0</td>\n",
              "      <td>-22.97712</td>\n",
              "      <td>-43.19045</td>\n",
              "      <td>2</td>\n",
              "      <td>1.0</td>\n",
              "      <td>1.0</td>\n",
              "      <td>2.0</td>\n",
              "      <td>159.0</td>\n",
              "      <td>45.0</td>\n",
              "      <td>...</td>\n",
              "      <td>1</td>\n",
              "      <td>0</td>\n",
              "      <td>0</td>\n",
              "      <td>0</td>\n",
              "      <td>0</td>\n",
              "      <td>1</td>\n",
              "      <td>0</td>\n",
              "      <td>0</td>\n",
              "      <td>0</td>\n",
              "      <td>1</td>\n",
              "    </tr>\n",
              "    <tr>\n",
              "      <th>3</th>\n",
              "      <td>1</td>\n",
              "      <td>1.0</td>\n",
              "      <td>-22.98302</td>\n",
              "      <td>-43.21427</td>\n",
              "      <td>3</td>\n",
              "      <td>1.0</td>\n",
              "      <td>1.0</td>\n",
              "      <td>2.0</td>\n",
              "      <td>273.0</td>\n",
              "      <td>42.0</td>\n",
              "      <td>...</td>\n",
              "      <td>1</td>\n",
              "      <td>0</td>\n",
              "      <td>0</td>\n",
              "      <td>0</td>\n",
              "      <td>0</td>\n",
              "      <td>1</td>\n",
              "      <td>0</td>\n",
              "      <td>0</td>\n",
              "      <td>0</td>\n",
              "      <td>1</td>\n",
              "    </tr>\n",
              "    <tr>\n",
              "      <th>4</th>\n",
              "      <td>0</td>\n",
              "      <td>1.0</td>\n",
              "      <td>-22.98816</td>\n",
              "      <td>-43.19359</td>\n",
              "      <td>2</td>\n",
              "      <td>1.5</td>\n",
              "      <td>1.0</td>\n",
              "      <td>1.0</td>\n",
              "      <td>378.0</td>\n",
              "      <td>63.0</td>\n",
              "      <td>...</td>\n",
              "      <td>1</td>\n",
              "      <td>0</td>\n",
              "      <td>0</td>\n",
              "      <td>0</td>\n",
              "      <td>0</td>\n",
              "      <td>1</td>\n",
              "      <td>0</td>\n",
              "      <td>0</td>\n",
              "      <td>0</td>\n",
              "      <td>1</td>\n",
              "    </tr>\n",
              "  </tbody>\n",
              "</table>\n",
              "<p>5 rows × 36 columns</p>\n",
              "</div>"
            ],
            "text/plain": [
              "  host_is_superhost  host_listings_count  latitude  longitude  accommodates  \\\n",
              "0                 1                  2.0 -22.96592  -43.17896             5   \n",
              "1                 0                  0.0 -22.98467  -43.19611             6   \n",
              "2                 0                  3.0 -22.97712  -43.19045             2   \n",
              "3                 1                  1.0 -22.98302  -43.21427             3   \n",
              "4                 0                  1.0 -22.98816  -43.19359             2   \n",
              "\n",
              "   bathrooms  bedrooms  beds  price  extra_people  ...  \\\n",
              "0        1.0       2.0   2.0  332.0          63.0  ...   \n",
              "1        2.0       2.0   4.0  336.0           0.0  ...   \n",
              "2        1.0       1.0   2.0  159.0          45.0  ...   \n",
              "3        1.0       1.0   2.0  273.0          42.0  ...   \n",
              "4        1.5       1.0   1.0  378.0          63.0  ...   \n",
              "\n",
              "   room_type_Entire home/apt room_type_Hotel room room_type_Private room  \\\n",
              "0                          1                    0                      0   \n",
              "1                          1                    0                      0   \n",
              "2                          1                    0                      0   \n",
              "3                          1                    0                      0   \n",
              "4                          1                    0                      0   \n",
              "\n",
              "   room_type_Shared room  bed_type_Others  bed_type_Real Bed  \\\n",
              "0                      0                0                  1   \n",
              "1                      0                0                  1   \n",
              "2                      0                0                  1   \n",
              "3                      0                0                  1   \n",
              "4                      0                0                  1   \n",
              "\n",
              "   cancellation_policy_flexible  cancellation_policy_moderate  \\\n",
              "0                             0                             0   \n",
              "1                             0                             0   \n",
              "2                             0                             0   \n",
              "3                             0                             0   \n",
              "4                             0                             0   \n",
              "\n",
              "   cancellation_policy_strict  cancellation_policy_strict_14_with_grace_period  \n",
              "0                           0                                                1  \n",
              "1                           0                                                1  \n",
              "2                           0                                                1  \n",
              "3                           0                                                1  \n",
              "4                           0                                                1  \n",
              "\n",
              "[5 rows x 36 columns]"
            ]
          },
          "metadata": {},
          "output_type": "display_data"
        }
      ],
      "source": [
        "categories_columns = ['property_type', 'room_type', 'bed_type', 'cancellation_policy']\n",
        "encoded_df = pd.get_dummies(data=encoded_df, columns=categories_columns)\n",
        "display(encoded_df.head())"
      ]
    },
    {
      "cell_type": "markdown",
      "metadata": {
        "id": "FFPeEJ3t1lxY"
      },
      "source": [
        "### Modelo de Previsão"
      ]
    },
    {
      "attachments": {},
      "cell_type": "markdown",
      "metadata": {},
      "source": [
        "- Evaluation Metrics"
      ]
    },
    {
      "cell_type": "code",
      "execution_count": 143,
      "metadata": {
        "id": "Z4nWweFE1lxY"
      },
      "outputs": [],
      "source": [
        "def evaluate_model(model_name, y_test, forecast):\n",
        "    r2 = r2_score(y_test, forecast)\n",
        "    RSME = np.sqrt(mean_squared_error(y_test, forecast))\n",
        "\n",
        "    return f'{model_name} model:\\nR²: {r2:.2%}\\nRSME: {RSME:.2f}'"
      ]
    },
    {
      "attachments": {},
      "cell_type": "markdown",
      "metadata": {},
      "source": [
        "- Choosing the model to be tested"
      ]
    },
    {
      "cell_type": "code",
      "execution_count": 144,
      "metadata": {},
      "outputs": [],
      "source": [
        "model_rf = RandomForestRegressor()\n",
        "model_lr = LinearRegression()\n",
        "model_et = ExtraTreesRegressor()\n",
        "\n",
        "models = {'RandomForest': model_rf,\n",
        "          'LinearRegression': model_lr,\n",
        "          'ExtraTrees': model_et,\n",
        "          }\n",
        "\n",
        "y = encoded_df['price']\n",
        "X = encoded_df.drop('price', axis=1)"
      ]
    },
    {
      "cell_type": "code",
      "execution_count": 145,
      "metadata": {},
      "outputs": [
        {
          "name": "stdout",
          "output_type": "stream",
          "text": [
            "RandomForest model:\n",
            "R²: 97.33%\n",
            "RSME: 44.61\n",
            "LinearRegression model:\n",
            "R²: 33.59%\n",
            "RSME: 222.44\n",
            "ExtraTrees model:\n",
            "R²: 97.52%\n",
            "RSME: 42.95\n"
          ]
        }
      ],
      "source": [
        "X_train, X_test, y_train, y_test = train_test_split(X, y, random_state=10)\n",
        "\n",
        "for model_name, model in models.items():\n",
        "    #training\n",
        "    model.fit(X_train, y_train)\n",
        "    #testing\n",
        "    forecast = model.predict(X_test)\n",
        "    print(evaluate_model(model_name, y_test, forecast))"
      ]
    },
    {
      "cell_type": "markdown",
      "metadata": {
        "id": "jQU-M1dl1lxZ"
      },
      "source": [
        "### Análise do Melhor Modelo"
      ]
    },
    {
      "cell_type": "code",
      "execution_count": null,
      "metadata": {
        "id": "clBRACw41lxZ"
      },
      "outputs": [],
      "source": []
    },
    {
      "cell_type": "markdown",
      "metadata": {
        "id": "S1aj15tB1lxZ"
      },
      "source": [
        "### Ajustes e Melhorias no Melhor Modelo"
      ]
    },
    {
      "cell_type": "code",
      "execution_count": 146,
      "metadata": {
        "id": "hqlQuGiy1lxa"
      },
      "outputs": [
        {
          "data": {
            "text/html": [
              "<div>\n",
              "<style scoped>\n",
              "    .dataframe tbody tr th:only-of-type {\n",
              "        vertical-align: middle;\n",
              "    }\n",
              "\n",
              "    .dataframe tbody tr th {\n",
              "        vertical-align: top;\n",
              "    }\n",
              "\n",
              "    .dataframe thead th {\n",
              "        text-align: right;\n",
              "    }\n",
              "</style>\n",
              "<table border=\"1\" class=\"dataframe\">\n",
              "  <thead>\n",
              "    <tr style=\"text-align: right;\">\n",
              "      <th></th>\n",
              "      <th>0</th>\n",
              "    </tr>\n",
              "  </thead>\n",
              "  <tbody>\n",
              "    <tr>\n",
              "      <th>room_type_Entire home/apt</th>\n",
              "      <td>0.102125</td>\n",
              "    </tr>\n",
              "    <tr>\n",
              "      <th>longitude</th>\n",
              "      <td>0.097848</td>\n",
              "    </tr>\n",
              "    <tr>\n",
              "      <th>latitude</th>\n",
              "      <td>0.097787</td>\n",
              "    </tr>\n",
              "    <tr>\n",
              "      <th>accommodates</th>\n",
              "      <td>0.096343</td>\n",
              "    </tr>\n",
              "    <tr>\n",
              "      <th>extra_people</th>\n",
              "      <td>0.089643</td>\n",
              "    </tr>\n",
              "    <tr>\n",
              "      <th>bathrooms</th>\n",
              "      <td>0.083936</td>\n",
              "    </tr>\n",
              "    <tr>\n",
              "      <th>n_amenities</th>\n",
              "      <td>0.082252</td>\n",
              "    </tr>\n",
              "    <tr>\n",
              "      <th>minimum_nights</th>\n",
              "      <td>0.063608</td>\n",
              "    </tr>\n",
              "    <tr>\n",
              "      <th>bedrooms</th>\n",
              "      <td>0.062135</td>\n",
              "    </tr>\n",
              "    <tr>\n",
              "      <th>beds</th>\n",
              "      <td>0.051333</td>\n",
              "    </tr>\n",
              "    <tr>\n",
              "      <th>host_listings_count</th>\n",
              "      <td>0.037855</td>\n",
              "    </tr>\n",
              "    <tr>\n",
              "      <th>instant_bookable</th>\n",
              "      <td>0.020967</td>\n",
              "    </tr>\n",
              "    <tr>\n",
              "      <th>cancellation_policy_flexible</th>\n",
              "      <td>0.018720</td>\n",
              "    </tr>\n",
              "    <tr>\n",
              "      <th>host_is_superhost</th>\n",
              "      <td>0.014381</td>\n",
              "    </tr>\n",
              "    <tr>\n",
              "      <th>property_type_Apartment</th>\n",
              "      <td>0.012816</td>\n",
              "    </tr>\n",
              "    <tr>\n",
              "      <th>cancellation_policy_moderate</th>\n",
              "      <td>0.012150</td>\n",
              "    </tr>\n",
              "    <tr>\n",
              "      <th>year</th>\n",
              "      <td>0.010905</td>\n",
              "    </tr>\n",
              "    <tr>\n",
              "      <th>cancellation_policy_strict_14_with_grace_period</th>\n",
              "      <td>0.007626</td>\n",
              "    </tr>\n",
              "    <tr>\n",
              "      <th>property_type_House</th>\n",
              "      <td>0.007517</td>\n",
              "    </tr>\n",
              "    <tr>\n",
              "      <th>property_type_Condominium</th>\n",
              "      <td>0.005340</td>\n",
              "    </tr>\n",
              "    <tr>\n",
              "      <th>month</th>\n",
              "      <td>0.004524</td>\n",
              "    </tr>\n",
              "    <tr>\n",
              "      <th>property_type_Others</th>\n",
              "      <td>0.002665</td>\n",
              "    </tr>\n",
              "    <tr>\n",
              "      <th>bed_type_Real Bed</th>\n",
              "      <td>0.002454</td>\n",
              "    </tr>\n",
              "    <tr>\n",
              "      <th>bed_type_Others</th>\n",
              "      <td>0.002433</td>\n",
              "    </tr>\n",
              "    <tr>\n",
              "      <th>property_type_Serviced apartment</th>\n",
              "      <td>0.002122</td>\n",
              "    </tr>\n",
              "    <tr>\n",
              "      <th>property_type_Loft</th>\n",
              "      <td>0.002096</td>\n",
              "    </tr>\n",
              "    <tr>\n",
              "      <th>room_type_Shared room</th>\n",
              "      <td>0.002041</td>\n",
              "    </tr>\n",
              "    <tr>\n",
              "      <th>room_type_Private room</th>\n",
              "      <td>0.001595</td>\n",
              "    </tr>\n",
              "    <tr>\n",
              "      <th>property_type_Bed and breakfast</th>\n",
              "      <td>0.001280</td>\n",
              "    </tr>\n",
              "    <tr>\n",
              "      <th>property_type_Guesthouse</th>\n",
              "      <td>0.000850</td>\n",
              "    </tr>\n",
              "    <tr>\n",
              "      <th>property_type_Guest suite</th>\n",
              "      <td>0.000831</td>\n",
              "    </tr>\n",
              "    <tr>\n",
              "      <th>cancellation_policy_strict</th>\n",
              "      <td>0.000826</td>\n",
              "    </tr>\n",
              "    <tr>\n",
              "      <th>property_type_Hostel</th>\n",
              "      <td>0.000720</td>\n",
              "    </tr>\n",
              "    <tr>\n",
              "      <th>room_type_Hotel room</th>\n",
              "      <td>0.000273</td>\n",
              "    </tr>\n",
              "    <tr>\n",
              "      <th>is_business_travel_ready</th>\n",
              "      <td>0.000000</td>\n",
              "    </tr>\n",
              "  </tbody>\n",
              "</table>\n",
              "</div>"
            ],
            "text/plain": [
              "                                                        0\n",
              "room_type_Entire home/apt                        0.102125\n",
              "longitude                                        0.097848\n",
              "latitude                                         0.097787\n",
              "accommodates                                     0.096343\n",
              "extra_people                                     0.089643\n",
              "bathrooms                                        0.083936\n",
              "n_amenities                                      0.082252\n",
              "minimum_nights                                   0.063608\n",
              "bedrooms                                         0.062135\n",
              "beds                                             0.051333\n",
              "host_listings_count                              0.037855\n",
              "instant_bookable                                 0.020967\n",
              "cancellation_policy_flexible                     0.018720\n",
              "host_is_superhost                                0.014381\n",
              "property_type_Apartment                          0.012816\n",
              "cancellation_policy_moderate                     0.012150\n",
              "year                                             0.010905\n",
              "cancellation_policy_strict_14_with_grace_period  0.007626\n",
              "property_type_House                              0.007517\n",
              "property_type_Condominium                        0.005340\n",
              "month                                            0.004524\n",
              "property_type_Others                             0.002665\n",
              "bed_type_Real Bed                                0.002454\n",
              "bed_type_Others                                  0.002433\n",
              "property_type_Serviced apartment                 0.002122\n",
              "property_type_Loft                               0.002096\n",
              "room_type_Shared room                            0.002041\n",
              "room_type_Private room                           0.001595\n",
              "property_type_Bed and breakfast                  0.001280\n",
              "property_type_Guesthouse                         0.000850\n",
              "property_type_Guest suite                        0.000831\n",
              "cancellation_policy_strict                       0.000826\n",
              "property_type_Hostel                             0.000720\n",
              "room_type_Hotel room                             0.000273\n",
              "is_business_travel_ready                         0.000000"
            ]
          },
          "metadata": {},
          "output_type": "display_data"
        },
        {
          "data": {
            "image/png": "[encoded data removed]",
            "text/plain": [
              "<Figure size 1500x500 with 1 Axes>"
            ]
          },
          "metadata": {},
          "output_type": "display_data"
        }
      ],
      "source": [
        "importancia_features = pd.DataFrame(model_et.feature_importances_, X_train.columns)\n",
        "importancia_features = importancia_features.sort_values(by=0, ascending=False)\n",
        "display(importancia_features)\n",
        "plt.figure(figsize=(15, 5))\n",
        "ax = sns.barplot(x=importancia_features.index, y=importancia_features[0])\n",
        "ax.tick_params(axis='x', rotation=90)"
      ]
    },
    {
      "cell_type": "code",
      "execution_count": 147,
      "metadata": {},
      "outputs": [
        {
          "name": "stdout",
          "output_type": "stream",
          "text": [
            "ExtraTrees model:\n",
            "R²: 97.54%\n",
            "RSME: 42.84\n"
          ]
        }
      ],
      "source": [
        "encoded_df = encoded_df.drop('is_business_travel_ready', axis=1)\n",
        "\n",
        "y = encoded_df['price']\n",
        "X = encoded_df.drop('price', axis=1)\n",
        "\n",
        "X_train, X_test, y_train, y_test = train_test_split(X, y, random_state=10)\n",
        "\n",
        "model_et.fit(X_train, y_train)\n",
        "forecast = model_et.predict(X_test)\n",
        "print(evaluate_model('ExtraTrees', y_test, forecast))"
      ]
    }
  ],
  "metadata": {
    "colab": {
      "provenance": []
    },
    "kernelspec": {
      "display_name": "venvds",
      "language": "python",
      "name": "python3"
    },
    "language_info": {
      "codemirror_mode": {
        "name": "ipython",
        "version": 3
      },
      "file_extension": ".py",
      "mimetype": "text/x-python",
      "name": "python",
      "nbconvert_exporter": "python",
      "pygments_lexer": "ipython3",
      "version": "3.10.4"
    },
    "vscode": {
      "interpreter": {
        "hash": "cfa635fb10fc5609257d511d9e0dfbacacb9907003117d863a5ec9ba49ad2382"
      }
    }
  },
  "nbformat": 4,
  "nbformat_minor": 0
}
